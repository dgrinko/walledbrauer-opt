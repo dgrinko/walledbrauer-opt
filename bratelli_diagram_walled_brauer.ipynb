{
 "cells": [
  {
   "cell_type": "code",
   "execution_count": 1,
   "id": "stylish-distinction",
   "metadata": {},
   "outputs": [],
   "source": [
    "from sage.misc.element_with_label import ElementWithLabel\n",
    "latex.extra_preamble('\\\\usepackage{tikz}\\n\\\\usepackage{tkz-graph}\\n\\\\usepackage{tkz-berge}\\n\\\\usetikzlibrary{arrows,shapes}\\\\usepackage{pgfplots}\\\\usetikzlibrary{pgfplots.groupplots}')\n",
    "latex.add_to_preamble(\"\\\\renewcommand{\\\\emptyset}{\\\\varnothing}\")"
   ]
  },
  {
   "cell_type": "code",
   "execution_count": 2,
   "id": "large-speaking",
   "metadata": {},
   "outputs": [],
   "source": [
    "def ord(x,y):\n",
    "    if x[2]+1==y[2]:\n",
    "        if x[0].size()==x[2] and y[0].size()==y[2]:\n",
    "            return y[0].contains(x[0])\n",
    "        elif x[0].size()<=x[2] and y[0].size()<y[2]:\n",
    "            if y[0].size()==x[0].size():\n",
    "                return y[1].contains(x[1]) and x[0].contains(y[0])\n",
    "            elif y[1].size()==x[1].size():\n",
    "                return x[0].contains(y[0]) and x[1].contains(y[1])         \n",
    "    return False\n",
    "\n",
    "def color_edge(edge,d):\n",
    "    if (edge[0][0].length()+edge[0][1].length() > d) or (edge[1][0].length()+edge[1][1].length() > d):\n",
    "        return 'red'\n",
    "    else:\n",
    "        return 'black'\n",
    "    \n",
    "def compute_content(edge,p,z=var('delta') ):\n",
    "    inp = edge[0]\n",
    "    out = edge[1]\n",
    "    if out[2] <= p:\n",
    "        cell = Set(out[0].cells()).symmetric_difference(Set(inp[0].cells()))[0]\n",
    "        content = cell[1]-cell[0]\n",
    "    else:\n",
    "        length = len(Set(out[0].cells()).symmetric_difference(Set(inp[0].cells())))\n",
    "        if length==1:\n",
    "            cell = Set(out[0].cells()).symmetric_difference(Set(inp[0].cells()))[0]\n",
    "            content = cell[0]-cell[1]\n",
    "        else:\n",
    "            cell = Set(out[1].cells()).symmetric_difference(Set(inp[1].cells()))[0]\n",
    "            content = cell[1]-cell[0]+z\n",
    "    return (edge[0],edge[1],content)"
   ]
  },
  {
   "cell_type": "code",
   "execution_count": 18,
   "id": "chicken-cancer",
   "metadata": {},
   "outputs": [],
   "source": [
    "p = 4\n",
    "q = 2\n",
    "elements_up_to_p = [(b,Partition([]),n) for n in range(p+1) for b in Partitions(n)]\n",
    "elements_after_p = [(b1,b2,n+p) for n in range(1,q+1) for k in range(min(p,n),-1,-1) for b1 in Partitions(p-k) for b2 in Partitions(n-k)]\n",
    "#print(elements_up_to_p,'\\n' )\n",
    "#print(elements_after_p)"
   ]
  },
  {
   "cell_type": "code",
   "execution_count": 19,
   "id": "cleared-things",
   "metadata": {},
   "outputs": [],
   "source": [
    "elements = elements_up_to_p + elements_after_p\n",
    "elements_with_labels = [ElementWithLabel(x,(x[0],x[1])) for x in elements]\n",
    "Y = Poset((elements,ord), facade=True)\n",
    "H = Y.hasse_diagram()"
   ]
  },
  {
   "cell_type": "code",
   "execution_count": 20,
   "id": "thirty-sterling",
   "metadata": {
    "scrolled": true
   },
   "outputs": [],
   "source": [
    "d = 3\n",
    "for e in H.edges():\n",
    "    H.delete_edge(e)\n",
    "    H.add_edge(compute_content(e,p,d))\n",
    "    \n",
    "edge_colors={}\n",
    "for e in H.edges():\n",
    "    edge_colors[e] = color_edge(e,d)\n",
    "     \n",
    "# vertex_labels={}\n",
    "# for v in H.vertices():\n",
    "#     vertex_labels[v] = '$'+str(latex(v[0]))+', '+str(latex(v[1]))+', %d'%v[2]+'$'\n",
    "#     vertex_labels[v] = latex(v)\n",
    "#     print(vertex_labels[v])\n",
    "# H.relabel(vertex_labels)"
   ]
  },
  {
   "cell_type": "code",
   "execution_count": 21,
   "id": "equipped-preview",
   "metadata": {},
   "outputs": [],
   "source": [
    "#H.relabel(lambda w: ElementWithLabel(w, (w[0],w[1])))"
   ]
  },
  {
   "cell_type": "code",
   "execution_count": 22,
   "id": "spanish-construction",
   "metadata": {
    "scrolled": true
   },
   "outputs": [],
   "source": [
    "opts = H.latex_options()\n",
    "opts.set_options(edge_colors=edge_colors,edge_labels=True,tkz_style = 'Art',rankdir='down')\n",
    "#opts.set_options(tkz_style = 'Art',rankdir='down',)\n",
    "view(H)"
   ]
  },
  {
   "cell_type": "code",
   "execution_count": 13,
   "id": "referenced-jordan",
   "metadata": {
    "collapsed": true,
    "jupyter": {
     "outputs_hidden": true
    },
    "tags": []
   },
   "outputs": [
    {
     "data": {
      "text/plain": [
       "\\begin{tikzpicture}[>=latex,line join=bevel,]\n",
       "%%\n",
       "\\node (node_0) at (665.0bp,560.5bp) [draw,draw=none] {$\\left({\\emptyset}, {\\emptyset}, 0\\right)$};\n",
       "  \\node (node_1) at (665.0bp,503.5bp) [draw,draw=none] {$\\left({\\def\\lr#1{\\multicolumn{1}{|@{\\hspace{.6ex}}c@{\\hspace{.6ex}}|}{\\raisebox{-.3ex}{$#1$}}}\\raisebox{-.6ex}{$\\begin{array}[b]{*{1}c}\\cline{1-1}\\lr{\\phantom{x}}\\\\\\cline{1-1}\\end{array}$}}, {\\emptyset}, 1\\right)$};\n",
       "  \\node (node_2) at (628.0bp,433.5bp) [draw,draw=none] {$\\left({\\def\\lr#1{\\multicolumn{1}{|@{\\hspace{.6ex}}c@{\\hspace{.6ex}}|}{\\raisebox{-.3ex}{$#1$}}}\\raisebox{-.6ex}{$\\begin{array}[b]{*{1}c}\\cline{1-1}\\lr{\\phantom{x}}\\\\\\cline{1-1}\\lr{\\phantom{x}}\\\\\\cline{1-1}\\end{array}$}}, {\\emptyset}, 2\\right)$};\n",
       "  \\node (node_10) at (703.0bp,433.5bp) [draw,draw=none] {$\\left({\\def\\lr#1{\\multicolumn{1}{|@{\\hspace{.6ex}}c@{\\hspace{.6ex}}|}{\\raisebox{-.3ex}{$#1$}}}\\raisebox{-.6ex}{$\\begin{array}[b]{*{2}c}\\cline{1-2}\\lr{\\phantom{x}}&\\lr{\\phantom{x}}\\\\\\cline{1-2}\\end{array}$}}, {\\emptyset}, 2\\right)$};\n",
       "  \\node (node_3) at (585.0bp,342.5bp) [draw,draw=none] {$\\left({\\def\\lr#1{\\multicolumn{1}{|@{\\hspace{.6ex}}c@{\\hspace{.6ex}}|}{\\raisebox{-.3ex}{$#1$}}}\\raisebox{-.6ex}{$\\begin{array}[b]{*{1}c}\\cline{1-1}\\lr{\\phantom{x}}\\\\\\cline{1-1}\\lr{\\phantom{x}}\\\\\\cline{1-1}\\lr{\\phantom{x}}\\\\\\cline{1-1}\\end{array}$}}, {\\emptyset}, 3\\right)$};\n",
       "  \\node (node_11) at (666.0bp,342.5bp) [draw,draw=none] {$\\left({\\def\\lr#1{\\multicolumn{1}{|@{\\hspace{.6ex}}c@{\\hspace{.6ex}}|}{\\raisebox{-.3ex}{$#1$}}}\\raisebox{-.6ex}{$\\begin{array}[b]{*{2}c}\\cline{1-2}\\lr{\\phantom{x}}&\\lr{\\phantom{x}}\\\\\\cline{1-2}\\lr{\\phantom{x}}\\\\\\cline{1-1}\\end{array}$}}, {\\emptyset}, 3\\right)$};\n",
       "  \\node (node_4) at (428.0bp,239.5bp) [draw,draw=none] {$\\left({\\def\\lr#1{\\multicolumn{1}{|@{\\hspace{.6ex}}c@{\\hspace{.6ex}}|}{\\raisebox{-.3ex}{$#1$}}}\\raisebox{-.6ex}{$\\begin{array}[b]{*{1}c}\\cline{1-1}\\lr{\\phantom{x}}\\\\\\cline{1-1}\\lr{\\phantom{x}}\\\\\\cline{1-1}\\lr{\\phantom{x}}\\\\\\cline{1-1}\\end{array}$}}, {\\def\\lr#1{\\multicolumn{1}{|@{\\hspace{.6ex}}c@{\\hspace{.6ex}}|}{\\raisebox{-.3ex}{$#1$}}}\\raisebox{-.6ex}{$\\begin{array}[b]{*{1}c}\\cline{1-1}\\lr{\\phantom{x}}\\\\\\cline{1-1}\\end{array}$}}, 4\\right)$};\n",
       "  \\node (node_12) at (585.0bp,239.5bp) [draw,draw=none] {$\\left({\\def\\lr#1{\\multicolumn{1}{|@{\\hspace{.6ex}}c@{\\hspace{.6ex}}|}{\\raisebox{-.3ex}{$#1$}}}\\raisebox{-.6ex}{$\\begin{array}[b]{*{1}c}\\cline{1-1}\\lr{\\phantom{x}}\\\\\\cline{1-1}\\lr{\\phantom{x}}\\\\\\cline{1-1}\\end{array}$}}, {\\emptyset}, 4\\right)$};\n",
       "  \\node (node_5) at (206.0bp,136.5bp) [draw,draw=none] {$\\left({\\def\\lr#1{\\multicolumn{1}{|@{\\hspace{.6ex}}c@{\\hspace{.6ex}}|}{\\raisebox{-.3ex}{$#1$}}}\\raisebox{-.6ex}{$\\begin{array}[b]{*{1}c}\\cline{1-1}\\lr{\\phantom{x}}\\\\\\cline{1-1}\\lr{\\phantom{x}}\\\\\\cline{1-1}\\lr{\\phantom{x}}\\\\\\cline{1-1}\\end{array}$}}, {\\def\\lr#1{\\multicolumn{1}{|@{\\hspace{.6ex}}c@{\\hspace{.6ex}}|}{\\raisebox{-.3ex}{$#1$}}}\\raisebox{-.6ex}{$\\begin{array}[b]{*{1}c}\\cline{1-1}\\lr{\\phantom{x}}\\\\\\cline{1-1}\\lr{\\phantom{x}}\\\\\\cline{1-1}\\end{array}$}}, 5\\right)$};\n",
       "  \\node (node_7) at (382.0bp,136.5bp) [draw,draw=none] {$\\left({\\def\\lr#1{\\multicolumn{1}{|@{\\hspace{.6ex}}c@{\\hspace{.6ex}}|}{\\raisebox{-.3ex}{$#1$}}}\\raisebox{-.6ex}{$\\begin{array}[b]{*{1}c}\\cline{1-1}\\lr{\\phantom{x}}\\\\\\cline{1-1}\\lr{\\phantom{x}}\\\\\\cline{1-1}\\lr{\\phantom{x}}\\\\\\cline{1-1}\\end{array}$}}, {\\def\\lr#1{\\multicolumn{1}{|@{\\hspace{.6ex}}c@{\\hspace{.6ex}}|}{\\raisebox{-.3ex}{$#1$}}}\\raisebox{-.6ex}{$\\begin{array}[b]{*{2}c}\\cline{1-2}\\lr{\\phantom{x}}&\\lr{\\phantom{x}}\\\\\\cline{1-2}\\end{array}$}}, 5\\right)$};\n",
       "  \\node (node_14) at (474.0bp,136.5bp) [draw,draw=none] {$\\left({\\def\\lr#1{\\multicolumn{1}{|@{\\hspace{.6ex}}c@{\\hspace{.6ex}}|}{\\raisebox{-.3ex}{$#1$}}}\\raisebox{-.6ex}{$\\begin{array}[b]{*{1}c}\\cline{1-1}\\lr{\\phantom{x}}\\\\\\cline{1-1}\\lr{\\phantom{x}}\\\\\\cline{1-1}\\end{array}$}}, {\\def\\lr#1{\\multicolumn{1}{|@{\\hspace{.6ex}}c@{\\hspace{.6ex}}|}{\\raisebox{-.3ex}{$#1$}}}\\raisebox{-.6ex}{$\\begin{array}[b]{*{1}c}\\cline{1-1}\\lr{\\phantom{x}}\\\\\\cline{1-1}\\end{array}$}}, 5\\right)$};\n",
       "  \\node (node_6) at (30.0bp,33.5bp) [draw,draw=none] {$\\left({\\def\\lr#1{\\multicolumn{1}{|@{\\hspace{.6ex}}c@{\\hspace{.6ex}}|}{\\raisebox{-.3ex}{$#1$}}}\\raisebox{-.6ex}{$\\begin{array}[b]{*{1}c}\\cline{1-1}\\lr{\\phantom{x}}\\\\\\cline{1-1}\\lr{\\phantom{x}}\\\\\\cline{1-1}\\lr{\\phantom{x}}\\\\\\cline{1-1}\\end{array}$}}, {\\def\\lr#1{\\multicolumn{1}{|@{\\hspace{.6ex}}c@{\\hspace{.6ex}}|}{\\raisebox{-.3ex}{$#1$}}}\\raisebox{-.6ex}{$\\begin{array}[b]{*{1}c}\\cline{1-1}\\lr{\\phantom{x}}\\\\\\cline{1-1}\\lr{\\phantom{x}}\\\\\\cline{1-1}\\lr{\\phantom{x}}\\\\\\cline{1-1}\\end{array}$}}, 6\\right)$};\n",
       "  \\node (node_8) at (114.0bp,33.5bp) [draw,draw=none] {$\\left({\\def\\lr#1{\\multicolumn{1}{|@{\\hspace{.6ex}}c@{\\hspace{.6ex}}|}{\\raisebox{-.3ex}{$#1$}}}\\raisebox{-.6ex}{$\\begin{array}[b]{*{1}c}\\cline{1-1}\\lr{\\phantom{x}}\\\\\\cline{1-1}\\lr{\\phantom{x}}\\\\\\cline{1-1}\\lr{\\phantom{x}}\\\\\\cline{1-1}\\end{array}$}}, {\\def\\lr#1{\\multicolumn{1}{|@{\\hspace{.6ex}}c@{\\hspace{.6ex}}|}{\\raisebox{-.3ex}{$#1$}}}\\raisebox{-.6ex}{$\\begin{array}[b]{*{2}c}\\cline{1-2}\\lr{\\phantom{x}}&\\lr{\\phantom{x}}\\\\\\cline{1-2}\\lr{\\phantom{x}}\\\\\\cline{1-1}\\end{array}$}}, 6\\right)$};\n",
       "  \\node (node_16) at (298.0bp,33.5bp) [draw,draw=none] {$\\left({\\def\\lr#1{\\multicolumn{1}{|@{\\hspace{.6ex}}c@{\\hspace{.6ex}}|}{\\raisebox{-.3ex}{$#1$}}}\\raisebox{-.6ex}{$\\begin{array}[b]{*{1}c}\\cline{1-1}\\lr{\\phantom{x}}\\\\\\cline{1-1}\\lr{\\phantom{x}}\\\\\\cline{1-1}\\end{array}$}}, {\\def\\lr#1{\\multicolumn{1}{|@{\\hspace{.6ex}}c@{\\hspace{.6ex}}|}{\\raisebox{-.3ex}{$#1$}}}\\raisebox{-.6ex}{$\\begin{array}[b]{*{1}c}\\cline{1-1}\\lr{\\phantom{x}}\\\\\\cline{1-1}\\lr{\\phantom{x}}\\\\\\cline{1-1}\\end{array}$}}, 6\\right)$};\n",
       "  \\node (node_9) at (209.0bp,33.5bp) [draw,draw=none] {$\\left({\\def\\lr#1{\\multicolumn{1}{|@{\\hspace{.6ex}}c@{\\hspace{.6ex}}|}{\\raisebox{-.3ex}{$#1$}}}\\raisebox{-.6ex}{$\\begin{array}[b]{*{1}c}\\cline{1-1}\\lr{\\phantom{x}}\\\\\\cline{1-1}\\lr{\\phantom{x}}\\\\\\cline{1-1}\\lr{\\phantom{x}}\\\\\\cline{1-1}\\end{array}$}}, {\\def\\lr#1{\\multicolumn{1}{|@{\\hspace{.6ex}}c@{\\hspace{.6ex}}|}{\\raisebox{-.3ex}{$#1$}}}\\raisebox{-.6ex}{$\\begin{array}[b]{*{3}c}\\cline{1-3}\\lr{\\phantom{x}}&\\lr{\\phantom{x}}&\\lr{\\phantom{x}}\\\\\\cline{1-3}\\end{array}$}}, 6\\right)$};\n",
       "  \\node (node_19) at (382.0bp,33.5bp) [draw,draw=none] {$\\left({\\def\\lr#1{\\multicolumn{1}{|@{\\hspace{.6ex}}c@{\\hspace{.6ex}}|}{\\raisebox{-.3ex}{$#1$}}}\\raisebox{-.6ex}{$\\begin{array}[b]{*{1}c}\\cline{1-1}\\lr{\\phantom{x}}\\\\\\cline{1-1}\\lr{\\phantom{x}}\\\\\\cline{1-1}\\end{array}$}}, {\\def\\lr#1{\\multicolumn{1}{|@{\\hspace{.6ex}}c@{\\hspace{.6ex}}|}{\\raisebox{-.3ex}{$#1$}}}\\raisebox{-.6ex}{$\\begin{array}[b]{*{2}c}\\cline{1-2}\\lr{\\phantom{x}}&\\lr{\\phantom{x}}\\\\\\cline{1-2}\\end{array}$}}, 6\\right)$};\n",
       "  \\node (node_22) at (764.0bp,342.5bp) [draw,draw=none] {$\\left({\\def\\lr#1{\\multicolumn{1}{|@{\\hspace{.6ex}}c@{\\hspace{.6ex}}|}{\\raisebox{-.3ex}{$#1$}}}\\raisebox{-.6ex}{$\\begin{array}[b]{*{3}c}\\cline{1-3}\\lr{\\phantom{x}}&\\lr{\\phantom{x}}&\\lr{\\phantom{x}}\\\\\\cline{1-3}\\end{array}$}}, {\\emptyset}, 3\\right)$};\n",
       "  \\node (node_13) at (666.0bp,239.5bp) [draw,draw=none] {$\\left({\\def\\lr#1{\\multicolumn{1}{|@{\\hspace{.6ex}}c@{\\hspace{.6ex}}|}{\\raisebox{-.3ex}{$#1$}}}\\raisebox{-.6ex}{$\\begin{array}[b]{*{2}c}\\cline{1-2}\\lr{\\phantom{x}}&\\lr{\\phantom{x}}\\\\\\cline{1-2}\\lr{\\phantom{x}}\\\\\\cline{1-1}\\end{array}$}}, {\\def\\lr#1{\\multicolumn{1}{|@{\\hspace{.6ex}}c@{\\hspace{.6ex}}|}{\\raisebox{-.3ex}{$#1$}}}\\raisebox{-.6ex}{$\\begin{array}[b]{*{1}c}\\cline{1-1}\\lr{\\phantom{x}}\\\\\\cline{1-1}\\end{array}$}}, 4\\right)$};\n",
       "  \\node (node_23) at (764.0bp,239.5bp) [draw,draw=none] {$\\left({\\def\\lr#1{\\multicolumn{1}{|@{\\hspace{.6ex}}c@{\\hspace{.6ex}}|}{\\raisebox{-.3ex}{$#1$}}}\\raisebox{-.6ex}{$\\begin{array}[b]{*{2}c}\\cline{1-2}\\lr{\\phantom{x}}&\\lr{\\phantom{x}}\\\\\\cline{1-2}\\end{array}$}}, {\\emptyset}, 4\\right)$};\n",
       "  \\node (node_24) at (764.0bp,136.5bp) [draw,draw=none] {$\\left({\\def\\lr#1{\\multicolumn{1}{|@{\\hspace{.6ex}}c@{\\hspace{.6ex}}|}{\\raisebox{-.3ex}{$#1$}}}\\raisebox{-.6ex}{$\\begin{array}[b]{*{1}c}\\cline{1-1}\\lr{\\phantom{x}}\\\\\\cline{1-1}\\end{array}$}}, {\\emptyset}, 5\\right)$};\n",
       "  \\node (node_15) at (566.0bp,136.5bp) [draw,draw=none] {$\\left({\\def\\lr#1{\\multicolumn{1}{|@{\\hspace{.6ex}}c@{\\hspace{.6ex}}|}{\\raisebox{-.3ex}{$#1$}}}\\raisebox{-.6ex}{$\\begin{array}[b]{*{2}c}\\cline{1-2}\\lr{\\phantom{x}}&\\lr{\\phantom{x}}\\\\\\cline{1-2}\\lr{\\phantom{x}}\\\\\\cline{1-1}\\end{array}$}}, {\\def\\lr#1{\\multicolumn{1}{|@{\\hspace{.6ex}}c@{\\hspace{.6ex}}|}{\\raisebox{-.3ex}{$#1$}}}\\raisebox{-.6ex}{$\\begin{array}[b]{*{1}c}\\cline{1-1}\\lr{\\phantom{x}}\\\\\\cline{1-1}\\lr{\\phantom{x}}\\\\\\cline{1-1}\\end{array}$}}, 5\\right)$};\n",
       "  \\node (node_18) at (666.0bp,136.5bp) [draw,draw=none] {$\\left({\\def\\lr#1{\\multicolumn{1}{|@{\\hspace{.6ex}}c@{\\hspace{.6ex}}|}{\\raisebox{-.3ex}{$#1$}}}\\raisebox{-.6ex}{$\\begin{array}[b]{*{2}c}\\cline{1-2}\\lr{\\phantom{x}}&\\lr{\\phantom{x}}\\\\\\cline{1-2}\\lr{\\phantom{x}}\\\\\\cline{1-1}\\end{array}$}}, {\\def\\lr#1{\\multicolumn{1}{|@{\\hspace{.6ex}}c@{\\hspace{.6ex}}|}{\\raisebox{-.3ex}{$#1$}}}\\raisebox{-.6ex}{$\\begin{array}[b]{*{2}c}\\cline{1-2}\\lr{\\phantom{x}}&\\lr{\\phantom{x}}\\\\\\cline{1-2}\\end{array}$}}, 5\\right)$};\n",
       "  \\node (node_27) at (864.0bp,136.5bp) [draw,draw=none] {$\\left({\\def\\lr#1{\\multicolumn{1}{|@{\\hspace{.6ex}}c@{\\hspace{.6ex}}|}{\\raisebox{-.3ex}{$#1$}}}\\raisebox{-.6ex}{$\\begin{array}[b]{*{2}c}\\cline{1-2}\\lr{\\phantom{x}}&\\lr{\\phantom{x}}\\\\\\cline{1-2}\\end{array}$}}, {\\def\\lr#1{\\multicolumn{1}{|@{\\hspace{.6ex}}c@{\\hspace{.6ex}}|}{\\raisebox{-.3ex}{$#1$}}}\\raisebox{-.6ex}{$\\begin{array}[b]{*{1}c}\\cline{1-1}\\lr{\\phantom{x}}\\\\\\cline{1-1}\\end{array}$}}, 5\\right)$};\n",
       "  \\node (node_28) at (764.0bp,33.5bp) [draw,draw=none] {$\\left({\\def\\lr#1{\\multicolumn{1}{|@{\\hspace{.6ex}}c@{\\hspace{.6ex}}|}{\\raisebox{-.3ex}{$#1$}}}\\raisebox{-.6ex}{$\\begin{array}[b]{*{1}c}\\cline{1-1}\\lr{\\phantom{x}}\\\\\\cline{1-1}\\end{array}$}}, {\\def\\lr#1{\\multicolumn{1}{|@{\\hspace{.6ex}}c@{\\hspace{.6ex}}|}{\\raisebox{-.3ex}{$#1$}}}\\raisebox{-.6ex}{$\\begin{array}[b]{*{1}c}\\cline{1-1}\\lr{\\phantom{x}}\\\\\\cline{1-1}\\end{array}$}}, 6\\right)$};\n",
       "  \\node (node_17) at (471.0bp,33.5bp) [draw,draw=none] {$\\left({\\def\\lr#1{\\multicolumn{1}{|@{\\hspace{.6ex}}c@{\\hspace{.6ex}}|}{\\raisebox{-.3ex}{$#1$}}}\\raisebox{-.6ex}{$\\begin{array}[b]{*{2}c}\\cline{1-2}\\lr{\\phantom{x}}&\\lr{\\phantom{x}}\\\\\\cline{1-2}\\lr{\\phantom{x}}\\\\\\cline{1-1}\\end{array}$}}, {\\def\\lr#1{\\multicolumn{1}{|@{\\hspace{.6ex}}c@{\\hspace{.6ex}}|}{\\raisebox{-.3ex}{$#1$}}}\\raisebox{-.6ex}{$\\begin{array}[b]{*{1}c}\\cline{1-1}\\lr{\\phantom{x}}\\\\\\cline{1-1}\\lr{\\phantom{x}}\\\\\\cline{1-1}\\lr{\\phantom{x}}\\\\\\cline{1-1}\\end{array}$}}, 6\\right)$};\n",
       "  \\node (node_20) at (566.0bp,33.5bp) [draw,draw=none] {$\\left({\\def\\lr#1{\\multicolumn{1}{|@{\\hspace{.6ex}}c@{\\hspace{.6ex}}|}{\\raisebox{-.3ex}{$#1$}}}\\raisebox{-.6ex}{$\\begin{array}[b]{*{2}c}\\cline{1-2}\\lr{\\phantom{x}}&\\lr{\\phantom{x}}\\\\\\cline{1-2}\\lr{\\phantom{x}}\\\\\\cline{1-1}\\end{array}$}}, {\\def\\lr#1{\\multicolumn{1}{|@{\\hspace{.6ex}}c@{\\hspace{.6ex}}|}{\\raisebox{-.3ex}{$#1$}}}\\raisebox{-.6ex}{$\\begin{array}[b]{*{2}c}\\cline{1-2}\\lr{\\phantom{x}}&\\lr{\\phantom{x}}\\\\\\cline{1-2}\\lr{\\phantom{x}}\\\\\\cline{1-1}\\end{array}$}}, 6\\right)$};\n",
       "  \\node (node_30) at (901.0bp,33.5bp) [draw,draw=none] {$\\left({\\def\\lr#1{\\multicolumn{1}{|@{\\hspace{.6ex}}c@{\\hspace{.6ex}}|}{\\raisebox{-.3ex}{$#1$}}}\\raisebox{-.6ex}{$\\begin{array}[b]{*{2}c}\\cline{1-2}\\lr{\\phantom{x}}&\\lr{\\phantom{x}}\\\\\\cline{1-2}\\end{array}$}}, {\\def\\lr#1{\\multicolumn{1}{|@{\\hspace{.6ex}}c@{\\hspace{.6ex}}|}{\\raisebox{-.3ex}{$#1$}}}\\raisebox{-.6ex}{$\\begin{array}[b]{*{1}c}\\cline{1-1}\\lr{\\phantom{x}}\\\\\\cline{1-1}\\lr{\\phantom{x}}\\\\\\cline{1-1}\\end{array}$}}, 6\\right)$};\n",
       "  \\node (node_21) at (672.0bp,33.5bp) [draw,draw=none] {$\\left({\\def\\lr#1{\\multicolumn{1}{|@{\\hspace{.6ex}}c@{\\hspace{.6ex}}|}{\\raisebox{-.3ex}{$#1$}}}\\raisebox{-.6ex}{$\\begin{array}[b]{*{2}c}\\cline{1-2}\\lr{\\phantom{x}}&\\lr{\\phantom{x}}\\\\\\cline{1-2}\\lr{\\phantom{x}}\\\\\\cline{1-1}\\end{array}$}}, {\\def\\lr#1{\\multicolumn{1}{|@{\\hspace{.6ex}}c@{\\hspace{.6ex}}|}{\\raisebox{-.3ex}{$#1$}}}\\raisebox{-.6ex}{$\\begin{array}[b]{*{3}c}\\cline{1-3}\\lr{\\phantom{x}}&\\lr{\\phantom{x}}&\\lr{\\phantom{x}}\\\\\\cline{1-3}\\end{array}$}}, 6\\right)$};\n",
       "  \\node (node_33) at (993.0bp,33.5bp) [draw,draw=none] {$\\left({\\def\\lr#1{\\multicolumn{1}{|@{\\hspace{.6ex}}c@{\\hspace{.6ex}}|}{\\raisebox{-.3ex}{$#1$}}}\\raisebox{-.6ex}{$\\begin{array}[b]{*{2}c}\\cline{1-2}\\lr{\\phantom{x}}&\\lr{\\phantom{x}}\\\\\\cline{1-2}\\end{array}$}}, {\\def\\lr#1{\\multicolumn{1}{|@{\\hspace{.6ex}}c@{\\hspace{.6ex}}|}{\\raisebox{-.3ex}{$#1$}}}\\raisebox{-.6ex}{$\\begin{array}[b]{*{2}c}\\cline{1-2}\\lr{\\phantom{x}}&\\lr{\\phantom{x}}\\\\\\cline{1-2}\\end{array}$}}, 6\\right)$};\n",
       "  \\node (node_26) at (890.0bp,239.5bp) [draw,draw=none] {$\\left({\\def\\lr#1{\\multicolumn{1}{|@{\\hspace{.6ex}}c@{\\hspace{.6ex}}|}{\\raisebox{-.3ex}{$#1$}}}\\raisebox{-.6ex}{$\\begin{array}[b]{*{3}c}\\cline{1-3}\\lr{\\phantom{x}}&\\lr{\\phantom{x}}&\\lr{\\phantom{x}}\\\\\\cline{1-3}\\end{array}$}}, {\\def\\lr#1{\\multicolumn{1}{|@{\\hspace{.6ex}}c@{\\hspace{.6ex}}|}{\\raisebox{-.3ex}{$#1$}}}\\raisebox{-.6ex}{$\\begin{array}[b]{*{1}c}\\cline{1-1}\\lr{\\phantom{x}}\\\\\\cline{1-1}\\end{array}$}}, 4\\right)$};\n",
       "  \\node (node_25) at (828.0bp,33.5bp) [draw,draw=none] {$\\left({\\emptyset}, {\\emptyset}, 6\\right)$};\n",
       "  \\node (node_29) at (1023.0bp,136.5bp) [draw,draw=none] {$\\left({\\def\\lr#1{\\multicolumn{1}{|@{\\hspace{.6ex}}c@{\\hspace{.6ex}}|}{\\raisebox{-.3ex}{$#1$}}}\\raisebox{-.6ex}{$\\begin{array}[b]{*{3}c}\\cline{1-3}\\lr{\\phantom{x}}&\\lr{\\phantom{x}}&\\lr{\\phantom{x}}\\\\\\cline{1-3}\\end{array}$}}, {\\def\\lr#1{\\multicolumn{1}{|@{\\hspace{.6ex}}c@{\\hspace{.6ex}}|}{\\raisebox{-.3ex}{$#1$}}}\\raisebox{-.6ex}{$\\begin{array}[b]{*{1}c}\\cline{1-1}\\lr{\\phantom{x}}\\\\\\cline{1-1}\\lr{\\phantom{x}}\\\\\\cline{1-1}\\end{array}$}}, 5\\right)$};\n",
       "  \\node (node_32) at (1161.0bp,136.5bp) [draw,draw=none] {$\\left({\\def\\lr#1{\\multicolumn{1}{|@{\\hspace{.6ex}}c@{\\hspace{.6ex}}|}{\\raisebox{-.3ex}{$#1$}}}\\raisebox{-.6ex}{$\\begin{array}[b]{*{3}c}\\cline{1-3}\\lr{\\phantom{x}}&\\lr{\\phantom{x}}&\\lr{\\phantom{x}}\\\\\\cline{1-3}\\end{array}$}}, {\\def\\lr#1{\\multicolumn{1}{|@{\\hspace{.6ex}}c@{\\hspace{.6ex}}|}{\\raisebox{-.3ex}{$#1$}}}\\raisebox{-.6ex}{$\\begin{array}[b]{*{2}c}\\cline{1-2}\\lr{\\phantom{x}}&\\lr{\\phantom{x}}\\\\\\cline{1-2}\\end{array}$}}, 5\\right)$};\n",
       "  \\node (node_31) at (1091.0bp,33.5bp) [draw,draw=none] {$\\left({\\def\\lr#1{\\multicolumn{1}{|@{\\hspace{.6ex}}c@{\\hspace{.6ex}}|}{\\raisebox{-.3ex}{$#1$}}}\\raisebox{-.6ex}{$\\begin{array}[b]{*{3}c}\\cline{1-3}\\lr{\\phantom{x}}&\\lr{\\phantom{x}}&\\lr{\\phantom{x}}\\\\\\cline{1-3}\\end{array}$}}, {\\def\\lr#1{\\multicolumn{1}{|@{\\hspace{.6ex}}c@{\\hspace{.6ex}}|}{\\raisebox{-.3ex}{$#1$}}}\\raisebox{-.6ex}{$\\begin{array}[b]{*{1}c}\\cline{1-1}\\lr{\\phantom{x}}\\\\\\cline{1-1}\\lr{\\phantom{x}}\\\\\\cline{1-1}\\lr{\\phantom{x}}\\\\\\cline{1-1}\\end{array}$}}, 6\\right)$};\n",
       "  \\node (node_34) at (1197.0bp,33.5bp) [draw,draw=none] {$\\left({\\def\\lr#1{\\multicolumn{1}{|@{\\hspace{.6ex}}c@{\\hspace{.6ex}}|}{\\raisebox{-.3ex}{$#1$}}}\\raisebox{-.6ex}{$\\begin{array}[b]{*{3}c}\\cline{1-3}\\lr{\\phantom{x}}&\\lr{\\phantom{x}}&\\lr{\\phantom{x}}\\\\\\cline{1-3}\\end{array}$}}, {\\def\\lr#1{\\multicolumn{1}{|@{\\hspace{.6ex}}c@{\\hspace{.6ex}}|}{\\raisebox{-.3ex}{$#1$}}}\\raisebox{-.6ex}{$\\begin{array}[b]{*{2}c}\\cline{1-2}\\lr{\\phantom{x}}&\\lr{\\phantom{x}}\\\\\\cline{1-2}\\lr{\\phantom{x}}\\\\\\cline{1-1}\\end{array}$}}, 6\\right)$};\n",
       "  \\node (node_35) at (1311.0bp,33.5bp) [draw,draw=none] {$\\left({\\def\\lr#1{\\multicolumn{1}{|@{\\hspace{.6ex}}c@{\\hspace{.6ex}}|}{\\raisebox{-.3ex}{$#1$}}}\\raisebox{-.6ex}{$\\begin{array}[b]{*{3}c}\\cline{1-3}\\lr{\\phantom{x}}&\\lr{\\phantom{x}}&\\lr{\\phantom{x}}\\\\\\cline{1-3}\\end{array}$}}, {\\def\\lr#1{\\multicolumn{1}{|@{\\hspace{.6ex}}c@{\\hspace{.6ex}}|}{\\raisebox{-.3ex}{$#1$}}}\\raisebox{-.6ex}{$\\begin{array}[b]{*{3}c}\\cline{1-3}\\lr{\\phantom{x}}&\\lr{\\phantom{x}}&\\lr{\\phantom{x}}\\\\\\cline{1-3}\\end{array}$}}, 6\\right)$};\n",
       "  \\draw [black,->] (node_0) ..controls (665.0bp,545.31bp) and (665.0bp,535.54bp)  .. (node_1);\n",
       "  \\draw [black,->] (node_1) ..controls (654.69bp,483.56bp) and (649.26bp,473.57bp)  .. (node_2);\n",
       "  \\draw [black,->] (node_1) ..controls (676.93bp,481.16bp) and (684.93bp,466.84bp)  .. (node_10);\n",
       "  \\draw [black,->] (node_2) ..controls (614.19bp,403.92bp) and (609.67bp,394.55bp)  .. (node_3);\n",
       "  \\draw [black,->] (node_2) ..controls (641.71bp,400.4bp) and (647.88bp,385.95bp)  .. (node_11);\n",
       "  \\draw [black,->] (node_3) ..controls (532.49bp,307.72bp) and (494.92bp,283.55bp)  .. (node_4);\n",
       "  \\draw [black,->] (node_3) ..controls (585.0bp,296.98bp) and (585.0bp,283.41bp)  .. (node_12);\n",
       "  \\draw [black,->] (node_4) ..controls (357.99bp,206.65bp) and (288.68bp,175.12bp)  .. (node_5);\n",
       "  \\draw [black,->] (node_4) ..controls (409.37bp,197.6bp) and (405.21bp,188.46bp)  .. (node_7);\n",
       "  \\draw [black,->] (node_4) ..controls (448.44bp,193.61bp) and (454.84bp,179.58bp)  .. (node_14);\n",
       "  \\draw [black,->] (node_5) ..controls (147.27bp,110.31bp) and (103.83bp,89.779bp)  .. (69.0bp,67.0bp) .. controls (68.816bp,66.879bp) and (68.631bp,66.758bp)  .. (node_6);\n",
       "  \\draw [black,->] (node_5) ..controls (168.18bp,93.977bp) and (159.17bp,84.089bp)  .. (node_8);\n",
       "  \\draw [black,->] (node_5) ..controls (247.45bp,89.998bp) and (260.94bp,75.182bp)  .. (node_16);\n",
       "  \\draw [black,->] (node_7) ..controls (301.05bp,118.41bp) and (221.55bp,98.126bp)  .. (159.0bp,67.0bp) .. controls (158.9bp,66.952bp) and (158.81bp,66.903bp)  .. (node_8);\n",
       "  \\draw [black,->] (node_7) ..controls (321.62bp,103.09bp) and (288.0bp,84.47bp)  .. (259.0bp,67.0bp) .. controls (258.91bp,66.945bp) and (258.82bp,66.89bp)  .. (node_9);\n",
       "  \\draw [black,->] (node_7) ..controls (382.0bp,90.978bp) and (382.0bp,77.408bp)  .. (node_19);\n",
       "  \\draw [black,->] (node_10) ..controls (693.23bp,409.0bp) and (685.37bp,390.1bp)  .. (node_11);\n",
       "  \\draw [black,->] (node_10) ..controls (720.93bp,406.34bp) and (738.12bp,381.26bp)  .. (node_22);\n",
       "  \\draw [black,->] (node_11) ..controls (637.3bp,305.71bp) and (621.15bp,285.58bp)  .. (node_12);\n",
       "  \\draw [black,->] (node_11) ..controls (666.0bp,306.39bp) and (666.0bp,287.42bp)  .. (node_13);\n",
       "  \\draw [black,->] (node_11) ..controls (703.71bp,302.63bp) and (728.57bp,277.01bp)  .. (node_23);\n",
       "  \\draw [black,->] (node_12) ..controls (545.51bp,202.57bp) and (522.54bp,181.66bp)  .. (node_14);\n",
       "  \\draw [black,->] (node_12) ..controls (610.15bp,213.55bp) and (615.54bp,209.34bp)  .. (621.0bp,206.0bp) .. controls (659.53bp,182.47bp) and (675.92bp,190.8bp)  .. (716.0bp,170.0bp) .. controls (724.22bp,165.74bp) and (732.73bp,160.34bp)  .. (node_24);\n",
       "  \\draw [black,->] (node_13) ..controls (634.08bp,213.67bp) and (627.48bp,209.42bp)  .. (621.0bp,206.0bp) .. controls (579.22bp,183.96bp) and (563.0bp,191.61bp)  .. (521.0bp,170.0bp) .. controls (517.28bp,168.08bp) and (513.51bp,165.92bp)  .. (node_14);\n",
       "  \\draw [black,->] (node_13) ..controls (630.3bp,202.44bp) and (609.9bp,181.84bp)  .. (node_15);\n",
       "  \\draw [black,->] (node_13) ..controls (666.0bp,203.39bp) and (666.0bp,184.42bp)  .. (node_18);\n",
       "  \\draw [black,->] (node_13) ..controls (709.7bp,214.58bp) and (718.11bp,210.09bp)  .. (726.0bp,206.0bp) .. controls (761.47bp,187.6bp) and (802.53bp,167.35bp)  .. (node_27);\n",
       "  \\draw [black,->] (node_14) ..controls (439.35bp,110.7bp) and (432.57bp,106.5bp)  .. (426.0bp,103.0bp) .. controls (388.35bp,82.927bp) and (373.61bp,88.921bp)  .. (337.0bp,67.0bp) .. controls (334.04bp,65.226bp) and (331.07bp,63.233bp)  .. (node_16);\n",
       "  \\draw [black,->] (node_14) ..controls (441.28bp,99.577bp) and (422.73bp,79.21bp)  .. (node_19);\n",
       "  \\draw [black,->] (node_14) ..controls (506.31bp,110.31bp) and (513.66bp,106.01bp)  .. (521.0bp,103.0bp) .. controls (607.42bp,67.619bp) and (644.05bp,107.89bp)  .. (728.0bp,67.0bp) .. controls (734.82bp,63.68bp) and (741.29bp,58.676bp)  .. (node_28);\n",
       "  \\draw [black,->] (node_15) ..controls (529.01bp,110.42bp) and (520.93bp,106.13bp)  .. (513.0bp,103.0bp) .. controls (438.73bp,73.688bp) and (408.95bp,101.6bp)  .. (337.0bp,67.0bp) .. controls (333.62bp,65.377bp) and (330.29bp,63.396bp)  .. (node_16);\n",
       "  \\draw [black,->] (node_15) ..controls (535.49bp,103.07bp) and (521.7bp,88.4bp)  .. (node_17);\n",
       "  \\draw [black,->] (node_15) ..controls (566.0bp,100.39bp) and (566.0bp,81.415bp)  .. (node_20);\n",
       "  \\draw [black,->] (node_15) ..controls (600.27bp,110.32bp) and (608.16bp,105.97bp)  .. (616.0bp,103.0bp) .. controls (716.85bp,64.738bp) and (756.12bp,107.73bp)  .. (856.0bp,67.0bp) .. controls (860.13bp,65.317bp) and (864.23bp,63.181bp)  .. (node_30);\n",
       "  \\draw [black,->] (node_18) ..controls (626.83bp,110.42bp) and (618.31bp,106.12bp)  .. (610.0bp,103.0bp) .. controls (532.0bp,73.682bp) and (502.27bp,100.57bp)  .. (426.0bp,67.0bp) .. controls (422.09bp,65.278bp) and (418.19bp,63.157bp)  .. (node_19);\n",
       "  \\draw [black,->] (node_18) ..controls (630.3bp,99.441bp) and (609.9bp,78.839bp)  .. (node_20);\n",
       "  \\draw [black,->] (node_18) ..controls (668.09bp,100.39bp) and (669.21bp,81.415bp)  .. (node_21);\n",
       "  \\draw [black,->] (node_18) ..controls (711.46bp,110.47bp) and (721.4bp,106.12bp)  .. (731.0bp,103.0bp) .. controls (823.13bp,73.004bp) and (856.22bp,103.43bp)  .. (946.0bp,67.0bp) .. controls (954.85bp,63.408bp) and (963.7bp,57.918bp)  .. (node_33);\n",
       "  \\draw [black,->] (node_22) ..controls (764.0bp,313.49bp) and (764.0bp,283.12bp)  .. (node_23);\n",
       "  \\draw [black,->] (node_22) ..controls (800.17bp,312.5bp) and (841.43bp,279.43bp)  .. (node_26);\n",
       "  \\draw [black,->] (node_23) ..controls (764.0bp,210.49bp) and (764.0bp,180.12bp)  .. (node_24);\n",
       "  \\draw [black,->] (node_23) ..controls (792.48bp,209.73bp) and (824.6bp,177.29bp)  .. (node_27);\n",
       "  \\draw [black,->] (node_24) ..controls (782.74bp,105.93bp) and (804.71bp,71.248bp)  .. (node_25);\n",
       "  \\draw [black,->] (node_24) ..controls (764.0bp,107.49bp) and (764.0bp,77.122bp)  .. (node_28);\n",
       "  \\draw [black,->] (node_26) ..controls (882.77bp,210.41bp) and (874.9bp,179.84bp)  .. (node_27);\n",
       "  \\draw [black,->] (node_26) ..controls (925.29bp,211.7bp) and (961.07bp,184.53bp)  .. (node_29);\n",
       "  \\draw [black,->] (node_26) ..controls (970.17bp,208.62bp) and (1065.6bp,173.05bp)  .. (node_32);\n",
       "  \\draw [black,->] (node_27) ..controls (835.52bp,106.73bp) and (803.4bp,74.294bp)  .. (node_28);\n",
       "  \\draw [black,->] (node_27) ..controls (873.51bp,109.55bp) and (882.67bp,84.536bp)  .. (node_30);\n",
       "  \\draw [black,->] (node_27) ..controls (901.13bp,106.43bp) and (943.64bp,73.146bp)  .. (node_33);\n",
       "  \\draw [black,->] (node_29) ..controls (979.43bp,99.431bp) and (953.9bp,78.29bp)  .. (node_30);\n",
       "  \\draw [black,->] (node_29) ..controls (1044.6bp,103.39bp) and (1054.2bp,89.212bp)  .. (node_31);\n",
       "  \\draw [black,->] (node_29) ..controls (1085.8bp,99.022bp) and (1123.5bp,77.164bp)  .. (node_34);\n",
       "  \\draw [black,->] (node_32) ..controls (1115.2bp,110.6bp) and (1074.8bp,88.049bp)  .. (1041.0bp,67.0bp) .. controls (1033.6bp,62.362bp) and (1025.6bp,57.113bp)  .. (node_33);\n",
       "  \\draw [black,->] (node_32) ..controls (1170.2bp,109.55bp) and (1179.2bp,84.536bp)  .. (node_34);\n",
       "  \\draw [black,->] (node_32) ..controls (1204.4bp,106.28bp) and (1254.5bp,72.569bp)  .. (node_35);\n",
       "%\n",
       "\\end{tikzpicture}"
      ]
     },
     "execution_count": 13,
     "metadata": {},
     "output_type": "execute_result"
    }
   ],
   "source": [
    "latex(H)"
   ]
  },
  {
   "cell_type": "code",
   "execution_count": 169,
   "id": "neutral-fitting",
   "metadata": {},
   "outputs": [
    {
     "name": "stdout",
     "output_type": "stream",
     "text": [
      "\\usepackage{tikz}\n",
      "\\usepackage{tkz-graph}\n",
      "\\usepackage{tkz-berge}\n",
      "\\usetikzlibrary{arrows,shapes}\\usepackage{pgfplots}\\usetikzlibrary{pgfplots.groupplots}\\renewcommand{\\emptyset}{\\varnothing}\n"
     ]
    }
   ],
   "source": [
    "print(latex.extra_preamble())"
   ]
  },
  {
   "cell_type": "markdown",
   "id": "handy-meditation",
   "metadata": {},
   "source": [
    "### another method"
   ]
  },
  {
   "cell_type": "code",
   "execution_count": 96,
   "id": "declared-substance",
   "metadata": {},
   "outputs": [],
   "source": [
    "from slabbe import TikzPicture\n",
    "path_to_file = TikzPicture.from_poset(Y,rankdir='right').pdf()  \n",
    "path_to_file_h = TikzPicture.from_graph(H,rankdir='right').pdf() "
   ]
  }
 ],
 "metadata": {
  "kernelspec": {
   "display_name": "SageMath 9.4",
   "language": "sage",
   "name": "sagemath"
  },
  "language_info": {
   "codemirror_mode": {
    "name": "ipython",
    "version": 3
   },
   "file_extension": ".py",
   "mimetype": "text/x-python",
   "name": "python",
   "nbconvert_exporter": "python",
   "pygments_lexer": "ipython3",
   "version": "3.7.10"
  }
 },
 "nbformat": 4,
 "nbformat_minor": 5
}
